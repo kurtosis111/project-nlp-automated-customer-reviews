{
 "cells": [
  {
   "cell_type": "markdown",
   "id": "2d96dec0",
   "metadata": {},
   "source": [
    "# Traditional NLP & ML approach\n",
    "## 1. Data Preprocessing"
   ]
  },
  {
   "cell_type": "code",
   "execution_count": 1,
   "id": "79df191a",
   "metadata": {},
   "outputs": [
    {
     "name": "stderr",
     "output_type": "stream",
     "text": [
      "/Users/Sigrid/Desktop/DSML/projects/project-nlp-automated-customer-reviews/.venv/lib/python3.11/site-packages/tqdm/auto.py:21: TqdmWarning: IProgress not found. Please update jupyter and ipywidgets. See https://ipywidgets.readthedocs.io/en/stable/user_install.html\n",
      "  from .autonotebook import tqdm as notebook_tqdm\n"
     ]
    }
   ],
   "source": [
    "import pandas as pd\n",
    "import re\n",
    "from collections import Counter\n",
    "\n",
    "import spacy\n",
    "nlp = spacy.load(\"en_core_web_sm\")\n",
    "from spacy.lang.en.stop_words import STOP_WORDS\n",
    "from sklearn.feature_extraction.text import TfidfVectorizer\n",
    "from sklearn.decomposition import TruncatedSVD\n",
    "from imblearn.over_sampling import SMOTE, RandomOverSampler\n",
    "from sklearn.model_selection import train_test_split\n",
    "\n",
    "from sklearn.linear_model import LogisticRegression\n",
    "from sklearn.svm import SVC\n",
    "from sklearn.ensemble import RandomForestClassifier\n",
    "from xgboost import XGBClassifier\n",
    "\n",
    "from sklearn.model_selection import GridSearchCV, KFold\n",
    "from sklearn.metrics import classification_report, accuracy_score, confusion_matrix\n",
    "\n",
    "import seaborn as sns\n",
    "import matplotlib.pyplot as plt\n",
    "import numpy as np\n",
    "\n",
    "from transformers import AutoTokenizer, AutoModelForSequenceClassification, get_scheduler\n",
    "import torch\n",
    "from torch.nn.functional import softmax, cross_entropy\n",
    "from torch.utils.data import TensorDataset, DataLoader, RandomSampler, SequentialSampler\n",
    "from torch.optim import AdamW\n",
    "\n",
    "from sklearn.preprocessing import LabelEncoder\n",
    "import warnings\n",
    "warnings.filterwarnings(\"ignore\")"
   ]
  },
  {
   "cell_type": "code",
   "execution_count": 2,
   "id": "0e972168",
   "metadata": {},
   "outputs": [],
   "source": [
    "# load data\n",
    "data1 = pd.read_csv('data/Datafiniti_Amazon_Consumer_Reviews_of_Amazon_Products_May19.csv')\n",
    "data2 = pd.read_csv('data/Datafiniti_Amazon_Consumer_Reviews_of_Amazon_Products.csv')\n",
    "data3 = pd.read_csv('data/1429_1.csv', low_memory=False)"
   ]
  },
  {
   "cell_type": "code",
   "execution_count": 3,
   "id": "dba2328b",
   "metadata": {},
   "outputs": [],
   "source": [
    "# Align columns\n",
    "cat_pc1 = data1[['categories', 'primaryCategories']].drop_duplicates()\n",
    "cat_pc2 = data2[['categories', 'primaryCategories']].drop_duplicates()\n",
    "cat_pc = pd.concat([cat_pc1, cat_pc2], axis=0).drop_duplicates().reset_index(drop=True)\n",
    "data3 = data3.merge(cat_pc, on='categories', how='left')\n",
    "# will deal with missing primaryCategories later\n",
    "\n",
    "columns_to_keep = ['id', 'name', 'categories', 'primaryCategories', 'reviews.id', 'reviews.text', 'reviews.rating', 'reviews.doRecommend']\n",
    "data = pd.concat([data1[columns_to_keep], data2[columns_to_keep], data3[columns_to_keep]], axis=0).reset_index(drop=True)\n",
    "data['reviews.text'] = data['reviews.text'].fillna('')\n",
    "data.drop_duplicates(subset = columns_to_keep, inplace=True)\n",
    "data.drop(data[data['reviews.rating'].isnull()].index, axis=0, inplace=True)\n",
    "data.reset_index(drop=True, inplace=True)\n",
    "data['reviews.grade'] = data['reviews.rating'].apply(lambda x: 2 if x >=5 else (1 if x==4 else 0))"
   ]
  },
  {
   "cell_type": "code",
   "execution_count": 4,
   "id": "e70dfd3a",
   "metadata": {},
   "outputs": [
    {
     "data": {
      "text/plain": [
       "reviews.grade\n",
       "2    0.690506\n",
       "1    0.228555\n",
       "0    0.080940\n",
       "Name: count, dtype: float64"
      ]
     },
     "execution_count": 4,
     "metadata": {},
     "output_type": "execute_result"
    }
   ],
   "source": [
    "# check class balance\n",
    "data['reviews.grade'].value_counts()/data.shape[0]"
   ]
  },
  {
   "cell_type": "markdown",
   "id": "dcd5d5c2",
   "metadata": {},
   "source": [
    "### 1.1 Data Cleaning"
   ]
  },
  {
   "cell_type": "code",
   "execution_count": 5,
   "id": "f45cf142",
   "metadata": {},
   "outputs": [],
   "source": [
    "def clean_text(text):\n",
    "    text = re.sub(r\"[!\\\"#$%&()*+,-./:;<=>?@[\\\\\\]^_`{|}~]+\", \" \", text)  # remove punctuation\n",
    "    text = text.replace('\\n', ' ').replace('\\r', ' ')\n",
    "    text = re.sub(r\"\\s+\", \" \", text).strip()  # remove extra whitespaces\n",
    "    text = text.lower()\n",
    "    return text"
   ]
  },
  {
   "cell_type": "markdown",
   "id": "1bae3517",
   "metadata": {},
   "source": [
    "### 1.2 Tokenization and Lemmatization"
   ]
  },
  {
   "cell_type": "code",
   "execution_count": 6,
   "id": "ad356e4b",
   "metadata": {},
   "outputs": [],
   "source": [
    "## Tokenize the cleaned document\n",
    "tokenized_doc = data['reviews.text'].apply(clean_text).fillna('').apply(lambda x: nlp(x))\n",
    "\n",
    "# remove stop-words\n",
    "tokenized_doc = tokenized_doc.apply(lambda x: [token.lemma_ for token in x if token.text not in STOP_WORDS])\n",
    "\n",
    "data[\"clean_token\"] = [\" \".join(x) for x in tokenized_doc]"
   ]
  },
  {
   "cell_type": "markdown",
   "id": "97a09b1d",
   "metadata": {},
   "source": [
    "### 1.3 Vectorization"
   ]
  },
  {
   "cell_type": "code",
   "execution_count": 8,
   "id": "6e4f73af",
   "metadata": {},
   "outputs": [
    {
     "data": {
      "text/plain": [
       "array([[0., 0., 0., ..., 0., 0., 0.],\n",
       "       [0., 0., 0., ..., 0., 0., 0.],\n",
       "       [0., 0., 0., ..., 0., 0., 0.],\n",
       "       ...,\n",
       "       [0., 0., 0., ..., 0., 0., 0.],\n",
       "       [0., 0., 0., ..., 0., 0., 0.],\n",
       "       [0., 0., 0., ..., 0., 0., 0.]], shape=(65481, 12870))"
      ]
     },
     "execution_count": 8,
     "metadata": {},
     "output_type": "execute_result"
    }
   ],
   "source": [
    "# TF-IDF vector\n",
    "vectorizer = TfidfVectorizer(stop_words='english')\n",
    "X = vectorizer.fit_transform(data['clean_token'])\n",
    "\n",
    "# X is a generator. We can transform that as an array\n",
    "dense = X.toarray()\n",
    "dense"
   ]
  },
  {
   "cell_type": "code",
   "execution_count": 9,
   "id": "29a01217",
   "metadata": {},
   "outputs": [
    {
     "name": "stdout",
     "output_type": "stream",
     "text": [
      "1000 0.8222728813330156\n"
     ]
    }
   ],
   "source": [
    "# SVD represent documents and terms in vectors\n",
    "n_comp = 1000\n",
    "svd_model = TruncatedSVD(n_components=n_comp, n_iter=100, random_state=122)\n",
    "lsa = svd_model.fit_transform(X)\n",
    "\n",
    "topic_encoded_df = pd.DataFrame(lsa, columns = [\"topic_\"+str(i) for i in range(1, n_comp+1)])\n",
    "\n",
    "print(n_comp, svd_model.explained_variance_ratio_.sum())"
   ]
  },
  {
   "cell_type": "markdown",
   "id": "336cef2f",
   "metadata": {},
   "source": [
    "## 2. Model Building\n",
    "### 2.1 Model Selection"
   ]
  },
  {
   "cell_type": "code",
   "execution_count": null,
   "id": "f4346aeb",
   "metadata": {},
   "outputs": [],
   "source": [
    "# handle class imbalance with SMOTE\n",
    "smote = SMOTE(random_state=42)\n",
    "X_res, y_res = smote.fit_resample(topic_encoded_df, data['reviews.grade'])\n",
    "\n",
    "# split the data\n",
    "X_train, X_val, y_train, y_val = train_test_split(X_res, y_res, test_size=0.3, random_state=42, stratify=y_res)\n",
    "X_val, X_test, y_val, y_test = train_test_split(X_val, y_val, test_size=0.5, random_state=42, stratify=y_val)\n",
    "\n",
    "models = {\n",
    "    \"Logistic Regression\": (LogisticRegression(max_iter=1000), {\"C\": [0.1, 1, 10]}),\n",
    "    \"SVM\": (SVC(), {\"C\": [0.1, 1, 10], \"kernel\": [\"linear\", \"rbf\"]}),\n",
    "    \"Random Forest\": (RandomForestClassifier(), {\"n_estimators\": [100, 200, 300], \"max_depth\": [5, 10, 20]}),\n",
    "    \"XGBoost\": (XGBClassifier(use_label_encoder=False, eval_metric='mlogloss'), {\"n_estimators\": [100, 200, 300], \"learning_rate\": [0.01, 0.1, 0.2], \"max_depth\": [3, 6, 9]})\n",
    "}\n",
    "\n",
    "cv = KFold(n_splits=5, shuffle=True, random_state=42)\n",
    "\n",
    "for name, (model, params) in models.items():\n",
    "    grid = GridSearchCV(model, params, cv=cv, scoring=\"f1_macro\", n_jobs=-1)\n",
    "    grid.fit(X_train, y_train)  # y is your label (e.g., 'positive', 'neutral', 'negative')\n",
    "    \n",
    "    print(f\"\\n {name} Best Parameters: {grid.best_params_}\")\n",
    "    print(f\"{name} Classification Report:\")\n",
    "    print(classification_report(y_val, grid.predict(X_val), digits=4))"
   ]
  },
  {
   "cell_type": "markdown",
   "id": "5435a6ef",
   "metadata": {},
   "source": [
    "## 3. Model Evaluation\n",
    "### 3.1 Evaluation Metrics"
   ]
  },
  {
   "cell_type": "code",
   "execution_count": null,
   "id": "eeb67064",
   "metadata": {},
   "outputs": [
    {
     "name": "stdout",
     "output_type": "stream",
     "text": [
      "\n",
      "Classification Report:\n",
      "              precision    recall  f1-score   support\n",
      "\n",
      "           0     0.7374    0.8382    0.7846      6782\n",
      "           1     0.5932    0.5310    0.5604      6783\n",
      "           2     0.6771    0.6554    0.6661      6782\n",
      "\n",
      "    accuracy                         0.6749     20347\n",
      "   macro avg     0.6692    0.6749    0.6703     20347\n",
      "weighted avg     0.6692    0.6749    0.6703     20347\n",
      "\n"
     ]
    }
   ],
   "source": [
    "# selected model: logistic regression with C=10\n",
    "lr = LogisticRegression(C=10, max_iter=1000)\n",
    "lr.fit(X_train, y_train)\n",
    "y_test_pred = lr.predict(X_test)\n",
    "\n",
    "# Detailed per-class report\n",
    "print(\"\\nClassification Report:\")\n",
    "print(classification_report(y_test, y_test_pred, digits=4))"
   ]
  },
  {
   "cell_type": "code",
   "execution_count": null,
   "id": "0e706d2b",
   "metadata": {},
   "outputs": [
    {
     "data": {
      "image/png": "[encoded data removed]",
      "text/plain": [
       "<Figure size 640x480 with 2 Axes>"
      ]
     },
     "metadata": {},
     "output_type": "display_data"
    }
   ],
   "source": [
    "cm = confusion_matrix(y_test, y_test_pred, labels=lr.classes_)\n",
    "# Normalize by row (true class)\n",
    "cm_normalized = cm.astype('float') / cm.sum(axis=1)[:, np.newaxis]\n",
    "\n",
    "sns.heatmap(cm_normalized, annot=True, fmt='.2f', cmap='Blues', xticklabels=lr.classes_, yticklabels=lr.classes_)\n",
    "plt.xlabel(\"Predicted\")\n",
    "plt.ylabel(\"Actual\")\n",
    "plt.title(\"Normalized Confusion Matrix\")\n",
    "plt.show()"
   ]
  },
  {
   "cell_type": "markdown",
   "id": "e6ce9518",
   "metadata": {},
   "source": [
    "### 3.2 Results\n",
    "- Model achieves an accuracy of 67.49% on the test dataset.\n",
    "- Precision, recall and F1-score for each class are as follows:\n",
    "- - Class Positive: Precision = ..."
   ]
  },
  {
   "cell_type": "markdown",
   "id": "7df10cbd",
   "metadata": {},
   "source": [
    "# Transformer approach (HuggingFace)\n",
    "## 1. Data Preprocessing"
   ]
  },
  {
   "cell_type": "code",
   "execution_count": null,
   "id": "3c297132",
   "metadata": {},
   "outputs": [],
   "source": [
    "# Cleaning, Tokenization and Encoding\n",
    "data['clean_text'] = data['reviews.text'].apply(clean_text)\n",
    "tokenizer = AutoTokenizer.from_pretrained(\"distilbert-base-uncased\")\n",
    "tokenized = tokenizer(\n",
    "    data['clean_text'].to_list(), \n",
    "    padding=True, \n",
    "    truncation=True, \n",
    "    max_length=128, \n",
    "    return_tensors=None)"
   ]
  },
  {
   "cell_type": "code",
   "execution_count": null,
   "id": "0984f1b6",
   "metadata": {},
   "outputs": [],
   "source": [
    "# convert the above into tensors\n",
    "input_ids = torch.tensor(tokenized[\"input_ids\"])\n",
    "attention_mask = torch.tensor(tokenized[\"attention_mask\"])\n",
    "labels = torch.tensor(data['reviews.grade'].tolist()) "
   ]
  },
  {
   "cell_type": "code",
   "execution_count": null,
   "id": "9b454e6b",
   "metadata": {},
   "outputs": [],
   "source": [
    "# Split data\n",
    "X = {\"input_ids\": input_ids, \"attention_mask\": attention_mask}\n",
    "y = labels\n",
    "\n",
    "X_train_ids, X_temp_ids, X_train_mask, X_temp_mask, y_train, y_temp = train_test_split(X[\"input_ids\"], X[\"attention_mask\"], y, test_size=0.3, stratify=y, random_state=42)\n",
    "X_val_ids, X_test_ids, X_val_mask, X_test_mask, y_val, y_test = train_test_split(X_temp_ids, X_temp_mask, y_temp, test_size=0.5, stratify=y_temp, random_state=42)\n",
    "\n",
    "train_data = {\n",
    "    \"input_ids\": X_train_ids,\n",
    "    \"attention_mask\": X_train_mask,\n",
    "    \"labels\": y_train\n",
    "}\n",
    "\n",
    "val_data = {\n",
    "    \"input_ids\": X_val_ids,\n",
    "    \"attention_mask\": X_val_mask,\n",
    "    \"labels\": y_val\n",
    "}\n",
    "\n",
    "test_data = {\n",
    "    \"input_ids\": X_test_ids,\n",
    "    \"attention_mask\": X_test_mask,\n",
    "    \"labels\": y_test\n",
    "}"
   ]
  },
  {
   "cell_type": "code",
   "execution_count": null,
   "id": "bf681768",
   "metadata": {},
   "outputs": [],
   "source": [
    "# Wrap tensors into datasets\n",
    "train_dataset = TensorDataset(train_data[\"input_ids\"], train_data[\"attention_mask\"], train_data[\"labels\"])\n",
    "val_dataset = TensorDataset(val_data[\"input_ids\"], val_data[\"attention_mask\"], val_data[\"labels\"])\n",
    "\n",
    "# Create DataLoaders\n",
    "train_loader = DataLoader(train_dataset, batch_size=16, shuffle=True)\n",
    "val_loader = DataLoader(val_dataset, batch_size=16, shuffle=True, drop_last=True)\n",
    "\n",
    "# Create DataLoaders for the test set\n",
    "test_dataset = TensorDataset(test_data[\"input_ids\"], test_data[\"attention_mask\"], test_data[\"labels\"])\n",
    "test_loader = DataLoader(test_dataset, batch_size=16, shuffle=True, drop_last=True)"
   ]
  },
  {
   "cell_type": "code",
   "execution_count": null,
   "id": "bff2305c",
   "metadata": {},
   "outputs": [],
   "source": [
    "class EarlyStopping:\n",
    "    def __init__(self, patience=5, min_delta=0.0):\n",
    "        self.patience = patience\n",
    "        self.min_delta = min_delta\n",
    "        self.best_loss = float('inf')\n",
    "        self.counter = 0\n",
    "        self.should_stop = False\n",
    "\n",
    "    def __call__(self, val_loss):\n",
    "        if val_loss < self.best_loss - self.min_delta:\n",
    "            self.best_loss = val_loss\n",
    "            self.counter = 0\n",
    "        else:\n",
    "            self.counter += 1\n",
    "            if self.counter >= self.patience:\n",
    "                self.should_stop = True\n",
    "                \n",
    "def train(model, train_loader, val_loader, criterion, optimizer, epochs=20, device = 'cpu'):\n",
    "    model.to(device)\n",
    "    # Dictionary to store training & validation loss and accuracy over epochs\n",
    "    history = {'loss': [], 'val_loss': [], 'accuracy': [], 'val_accuracy': [], 'val_f1': [], 'weighted avg': [], 'confusion matrix': []}\n",
    "    # apply early stoppping\n",
    "    early_stopper = EarlyStopping(patience = 5, min_delta=0)\n",
    "\n",
    "    for epoch in range(epochs):\n",
    "        model.train()\n",
    "        total_loss, correct = 0, 0\n",
    "        for batch in train_loader:\n",
    "            input_ids, attention_mask, labels = [x.to(device) for x in batch]\n",
    "\n",
    "            optimizer.zero_grad()\n",
    "            outputs = model(input_ids=input_ids, attention_mask=attention_mask)\n",
    "            loss = criterion(outputs.logits, labels)\n",
    "            loss.backward()\n",
    "            optimizer.step()\n",
    "\n",
    "            total_loss += loss.item()\n",
    "            # Get predicted class indices\n",
    "            predicted = torch.argmax(outputs.logits, dim=1)\n",
    "            # Compare with true labels\n",
    "            correct += (predicted == labels).sum().item()\n",
    "\n",
    "        train_loss = total_loss / len(train_loader)\n",
    "        train_acc = correct / len(train_loader.dataset)\n",
    "\n",
    "        # Validation\n",
    "        model.eval()\n",
    "        val_loss, val_correct = 0, 0\n",
    "        val_preds, val_labels = [], []\n",
    "\n",
    "        with torch.no_grad():\n",
    "            for batch in val_loader:\n",
    "                input_ids, attention_mask, labels = [x.to(device) for x in batch]\n",
    "                outputs = model(input_ids=input_ids, attention_mask=attention_mask)\n",
    "                loss = criterion(outputs.logits, labels)\n",
    "                val_loss += loss.item()\n",
    "                val_predicted = torch.argmax(outputs.logits, dim=1)\n",
    "                val_correct += (val_predicted==labels).sum().item()\n",
    "\n",
    "                val_preds.extend(val_predicted.cpu().numpy())\n",
    "                val_labels.extend(labels.cpu().numpy())\n",
    "\n",
    "        val_loss /= len(val_loader)\n",
    "        val_acc = val_correct / len(val_loader.dataset)\n",
    "\n",
    "        cr = classification_report(val_labels, val_preds, digits=4, output_dict=True)\n",
    "        wavg = cr['weighted avg']\n",
    "        mavg = cr['macro avg']\n",
    "        cm = confusion_matrix(val_labels, val_preds)\n",
    "\n",
    "        history['loss'].append(train_loss)\n",
    "        history['val_loss'].append(val_loss)\n",
    "        history['accuracy'].append(train_acc)\n",
    "        history['val_accuracy'].append(val_acc)\n",
    "        history['val_f1'].append(mavg['f1-score'])\n",
    "        history['weighted avg'].append(wavg)\n",
    "        history['confusion matrix'].append(cm)\n",
    "\n",
    "        print(f\"Epoch [{epoch+1}/{epochs}] | Loss: {train_loss:.4f} | Acc: {train_acc:.4f} | \"\n",
    "              f\"Val Loss: {val_loss:.4f} | Val Acc: {val_acc:.4f} | Val F1: {mavg['f1-score']:.4f}\")\n",
    "        print(f\"    Weighted avg -- Precision: {wavg['precision']:.4f}, Recall: {wavg['recall']:.4f}, F1-score: {wavg['f1-score']:.4f}\")\n",
    "        print(f\"    Macro avg    -- Precision: {mavg['precision']:.4f}, Recall: {mavg['recall']:.4f}, F1-score: {mavg['f1-score']:.4f}\")\n",
    "\n",
    "        early_stopper(val_loss)\n",
    "        if early_stopper.should_stop:\n",
    "            print(\"Early stopping triggered.\")\n",
    "            break\n",
    "    return history\n",
    "        "
   ]
  },
  {
   "cell_type": "markdown",
   "id": "600407b9",
   "metadata": {},
   "source": [
    "### 2.1 Model Selection"
   ]
  },
  {
   "cell_type": "code",
   "execution_count": null,
   "id": "25c7695f",
   "metadata": {},
   "outputs": [
    {
     "name": "stderr",
     "output_type": "stream",
     "text": [
      "Some weights of DistilBertForSequenceClassification were not initialized from the model checkpoint at distilbert-base-uncased and are newly initialized: ['classifier.bias', 'classifier.weight', 'pre_classifier.bias', 'pre_classifier.weight']\n",
      "You should probably TRAIN this model on a down-stream task to be able to use it for predictions and inference.\n"
     ]
    },
    {
     "name": "stdout",
     "output_type": "stream",
     "text": [
      "\n",
      "Test Set Classification Report:\n",
      "              precision    recall  f1-score   support\n",
      "\n",
      "           0     0.0686    0.0441    0.0537       794\n",
      "           1     0.0000    0.0000    0.0000      2243\n",
      "           2     0.6913    0.9493    0.8000      6771\n",
      "\n",
      "    accuracy                         0.6590      9808\n",
      "   macro avg     0.2533    0.3311    0.2846      9808\n",
      "weighted avg     0.4828    0.6590    0.5567      9808\n",
      "\n"
     ]
    },
    {
     "name": "stderr",
     "output_type": "stream",
     "text": [
      "/Users/Sigrid/Desktop/DSML/projects/project-nlp-automated-customer-reviews/.venv/lib/python3.11/site-packages/sklearn/metrics/_classification.py:1731: UndefinedMetricWarning: Precision is ill-defined and being set to 0.0 in labels with no predicted samples. Use `zero_division` parameter to control this behavior.\n",
      "  _warn_prf(average, modifier, f\"{metric.capitalize()} is\", result.shape[0])\n",
      "/Users/Sigrid/Desktop/DSML/projects/project-nlp-automated-customer-reviews/.venv/lib/python3.11/site-packages/sklearn/metrics/_classification.py:1731: UndefinedMetricWarning: Precision is ill-defined and being set to 0.0 in labels with no predicted samples. Use `zero_division` parameter to control this behavior.\n",
      "  _warn_prf(average, modifier, f\"{metric.capitalize()} is\", result.shape[0])\n",
      "/Users/Sigrid/Desktop/DSML/projects/project-nlp-automated-customer-reviews/.venv/lib/python3.11/site-packages/sklearn/metrics/_classification.py:1731: UndefinedMetricWarning: Precision is ill-defined and being set to 0.0 in labels with no predicted samples. Use `zero_division` parameter to control this behavior.\n",
      "  _warn_prf(average, modifier, f\"{metric.capitalize()} is\", result.shape[0])\n"
     ]
    }
   ],
   "source": [
    "# model without fine-tuning\n",
    "woft_model = AutoModelForSequenceClassification.from_pretrained(\"distilbert-base-uncased\", num_labels=3)\n",
    "\n",
    "device = torch.device(\"cuda\" if torch.cuda.is_available() else \"cpu\")\n",
    "\n",
    "woft_model.eval()\n",
    "\n",
    "# generate test set evaluation\n",
    "woft_model.eval()\n",
    "woft_model.to(device)\n",
    "test_preds, test_labels = [], []\n",
    "\n",
    "with torch.no_grad():\n",
    "    for batch in test_loader:\n",
    "        input_ids, attention_mask, labels = [x.to(device) for x in batch]\n",
    "\n",
    "        outputs = woft_model(input_ids=input_ids, attention_mask=attention_mask)\n",
    "        logits = outputs.logits\n",
    "\n",
    "        # Get predicted class indices\n",
    "        preds = torch.argmax(logits, dim=1)\n",
    "        test_preds.extend(preds.cpu().numpy())\n",
    "        test_labels.extend(labels.cpu().numpy())\n",
    "        \n",
    "# classification report for the test set\n",
    "cr_woft = classification_report(test_labels, test_preds, digits=4)\n",
    "print(\"\\nTest Set Classification Report:\")\n",
    "print(cr_woft)  "
   ]
  },
  {
   "cell_type": "code",
   "execution_count": null,
   "id": "b8dc36f0",
   "metadata": {},
   "outputs": [
    {
     "data": {
      "image/png": "[encoded data removed]",
      "text/plain": [
       "<Figure size 640x480 with 2 Axes>"
      ]
     },
     "metadata": {},
     "output_type": "display_data"
    }
   ],
   "source": [
    "cm_woft = confusion_matrix(test_labels, test_preds)\n",
    "cm_woft_normalized = cm_woft.astype('float') / cm_woft.sum(axis=1)[:, np.newaxis]\n",
    "\n",
    "sns.heatmap(cm_woft_normalized, annot=True, fmt='.2f', cmap='Blues', xticklabels=[0, 1, 2], yticklabels=[0, 1, 2])\n",
    "plt.xlabel(\"Predicted\")\n",
    "plt.ylabel(\"Actual\")\n",
    "plt.title(\"Normalized Confusion Matrix\")\n",
    "plt.show()"
   ]
  },
  {
   "cell_type": "markdown",
   "id": "73a004d6",
   "metadata": {},
   "source": [
    "### 2.2 Model Fine-Tuning\n",
    "Although the model is named as base_model, below process actually already integrates the fine-tuning process where the weights are updated. So please treat base_mdoel as fine-tuned model."
   ]
  },
  {
   "cell_type": "code",
   "execution_count": null,
   "id": "0660a0f7",
   "metadata": {},
   "outputs": [
    {
     "name": "stderr",
     "output_type": "stream",
     "text": [
      "Some weights of DistilBertForSequenceClassification were not initialized from the model checkpoint at distilbert-base-uncased and are newly initialized: ['classifier.bias', 'classifier.weight', 'pre_classifier.bias', 'pre_classifier.weight']\n",
      "You should probably TRAIN this model on a down-stream task to be able to use it for predictions and inference.\n"
     ]
    }
   ],
   "source": [
    "# Load model and set up optimizer and scheduler\n",
    "base_model = AutoModelForSequenceClassification.from_pretrained(\"distilbert-base-uncased\", num_labels=3)\n",
    "\n",
    "optimizer = AdamW(base_model.parameters(), lr=2e-5)\n",
    "\n",
    "num_training_steps = len(train_loader) * 3  # 3 epochs\n",
    "lr_scheduler = get_scheduler(\"linear\", optimizer=optimizer, num_warmup_steps=0, num_training_steps=num_training_steps)"
   ]
  },
  {
   "cell_type": "code",
   "execution_count": null,
   "id": "b1b04aaf",
   "metadata": {},
   "outputs": [],
   "source": [
    "device = torch.device(\"cuda\" if torch.cuda.is_available() else \"cpu\")\n",
    "\n",
    "label_count = {i: 0 for i in range(3)}\n",
    "for ii, am, labels in train_loader:\n",
    "    batch_count = Counter(labels.tolist())\n",
    "    for i in range(3):\n",
    "        label_count[i] += batch_count[i]\n",
    "\n",
    "total = sum(label_count.values())\n",
    "\n",
    "weights = torch.tensor([\n",
    "    total / label_count[i] for i in range(len(label_count))\n",
    "], dtype=torch.float)\n",
    "\n",
    "criterion = torch.nn.CrossEntropyLoss(weight = weights.to(device))"
   ]
  },
  {
   "cell_type": "code",
   "execution_count": null,
   "id": "53c443c6",
   "metadata": {},
   "outputs": [
    {
     "name": "stdout",
     "output_type": "stream",
     "text": [
      "Epoch [1/20] | Loss: 0.7504 | Acc: 0.6645 | Val Loss: 0.6874 | Val Acc: 0.6749 | Val F1: 0.6585\n",
      "    Weighted avg -- Precision: 0.7535, Recall: 0.6759, F1-score: 0.6970\n",
      "    Macro avg    -- Precision: 0.6628, Recall: 0.6876, F1-score: 0.6585\n",
      "Epoch [2/20] | Loss: 0.5851 | Acc: 0.7338 | Val Loss: 0.6436 | Val Acc: 0.7338 | Val F1: 0.6742\n",
      "    Weighted avg -- Precision: 0.7584, Recall: 0.7348, F1-score: 0.7427\n",
      "    Macro avg    -- Precision: 0.6443, Recall: 0.7215, F1-score: 0.6742\n",
      "Epoch [3/20] | Loss: 0.4540 | Acc: 0.7915 | Val Loss: 0.6569 | Val Acc: 0.7844 | Val F1: 0.7231\n",
      "    Weighted avg -- Precision: 0.7873, Recall: 0.7855, F1-score: 0.7860\n",
      "    Macro avg    -- Precision: 0.7098, Recall: 0.7388, F1-score: 0.7231\n",
      "Epoch [4/20] | Loss: 0.3431 | Acc: 0.8414 | Val Loss: 0.6939 | Val Acc: 0.7923 | Val F1: 0.7414\n",
      "    Weighted avg -- Precision: 0.8033, Recall: 0.7934, F1-score: 0.7973\n",
      "    Macro avg    -- Precision: 0.7245, Recall: 0.7619, F1-score: 0.7414\n",
      "Epoch [5/20] | Loss: 0.2548 | Acc: 0.8815 | Val Loss: 0.7604 | Val Acc: 0.7692 | Val F1: 0.7331\n",
      "    Weighted avg -- Precision: 0.8060, Recall: 0.7703, F1-score: 0.7810\n",
      "    Macro avg    -- Precision: 0.7178, Recall: 0.7635, F1-score: 0.7331\n",
      "Epoch [6/20] | Loss: 0.1898 | Acc: 0.9144 | Val Loss: 0.8524 | Val Acc: 0.8142 | Val F1: 0.7567\n",
      "    Weighted avg -- Precision: 0.8178, Recall: 0.8154, F1-score: 0.8164\n",
      "    Macro avg    -- Precision: 0.7486, Recall: 0.7655, F1-score: 0.7567\n",
      "Epoch [7/20] | Loss: 0.1457 | Acc: 0.9342 | Val Loss: 0.9249 | Val Acc: 0.8037 | Val F1: 0.7489\n",
      "    Weighted avg -- Precision: 0.8129, Recall: 0.8049, F1-score: 0.8079\n",
      "    Macro avg    -- Precision: 0.7298, Recall: 0.7722, F1-score: 0.7489\n",
      "Early stopping triggered.\n"
     ]
    }
   ],
   "source": [
    "history_base = train(base_model, train_loader, val_loader, criterion, optimizer)"
   ]
  },
  {
   "cell_type": "code",
   "execution_count": null,
   "id": "6a18a98e",
   "metadata": {},
   "outputs": [],
   "source": [
    "# Save model checkpoint \n",
    "checkpoint_path = \"fine_tuned_model.pth\"\n",
    "torch.save({\n",
    "    'model_state_dict': base_model.state_dict(),\n",
    "    'optimizer_state_dict': base_model.state_dict(),\n",
    "    'val_loss': history_base[\"val_loss\"][-1],\n",
    "    'confusion_matrix': history_base['confusion matrix'][-1]\n",
    "}, checkpoint_path)\n",
    "\n",
    "base_model.save_pretrained(\"model_dir\")\n",
    "tokenizer.save_pretrained(\"model_dir\")"
   ]
  },
  {
   "cell_type": "code",
   "execution_count": null,
   "id": "543c25c1",
   "metadata": {},
   "outputs": [
    {
     "name": "stdout",
     "output_type": "stream",
     "text": [
      "\n",
      "Test Set Classification Report:\n",
      "              precision    recall  f1-score   support\n",
      "\n",
      "           0     0.6847    0.8159    0.7445       793\n",
      "           1     0.6071    0.6439    0.6249      2241\n",
      "           2     0.8949    0.8568    0.8754      6774\n",
      "\n",
      "    accuracy                         0.8049      9808\n",
      "   macro avg     0.7289    0.7722    0.7483      9808\n",
      "weighted avg     0.8121    0.8049    0.8076      9808\n",
      "\n"
     ]
    }
   ],
   "source": [
    "# generate test set evaluation\n",
    "base_model.eval()\n",
    "base_model.to(device)\n",
    "test_preds, test_labels = [], []\n",
    "\n",
    "with torch.no_grad():\n",
    "    for batch in test_loader:\n",
    "        input_ids, attention_mask, labels = [x.to(device) for x in batch]\n",
    "\n",
    "        outputs = base_model(input_ids=input_ids, attention_mask=attention_mask)\n",
    "        logits = outputs.logits\n",
    "\n",
    "        # Get predicted class indices\n",
    "        preds = torch.argmax(logits, dim=1)\n",
    "        test_preds.extend(preds.cpu().numpy())\n",
    "        test_labels.extend(labels.cpu().numpy())\n",
    "        \n",
    "# classification report for the test set\n",
    "cr_base = classification_report(test_labels, test_preds, digits=4)\n",
    "print(\"\\nTest Set Classification Report:\")\n",
    "print(cr_base)  "
   ]
  },
  {
   "cell_type": "code",
   "execution_count": null,
   "id": "981e8aaf",
   "metadata": {},
   "outputs": [],
   "source": []
  },
  {
   "cell_type": "code",
   "execution_count": null,
   "id": "0ca95a17",
   "metadata": {},
   "outputs": [
    {
     "data": {
      "image/png": "[encoded data removed]",
      "text/plain": [
       "<Figure size 640x480 with 2 Axes>"
      ]
     },
     "metadata": {},
     "output_type": "display_data"
    }
   ],
   "source": [
    "cm_base = confusion_matrix(test_labels, test_preds)\n",
    "cm_base_normalized = cm_base.astype('float') / cm_base.sum(axis=1)[:, np.newaxis]\n",
    "\n",
    "sns.heatmap(cm_base_normalized, annot=True, fmt='.2f', cmap='Blues', xticklabels=[0, 1, 2], yticklabels=[0, 1, 2])\n",
    "plt.xlabel(\"Predicted\")\n",
    "plt.ylabel(\"Actual\")\n",
    "plt.title(\"Normalized Confusion Matrix\")\n",
    "plt.show()"
   ]
  },
  {
   "cell_type": "markdown",
   "id": "cc83002d",
   "metadata": {},
   "source": [
    "## 3. Deal with Missing primaryCategories"
   ]
  },
  {
   "cell_type": "code",
   "execution_count": null,
   "id": "57639493",
   "metadata": {},
   "outputs": [
    {
     "data": {
      "text/plain": [
       "array([[0.        , 0.        , 0.        , ..., 0.        , 0.        ,\n",
       "        0.        ],\n",
       "       [0.        , 0.        , 0.        , ..., 0.        , 0.        ,\n",
       "        0.        ],\n",
       "       [0.        , 0.        , 0.        , ..., 0.11244596, 0.        ,\n",
       "        0.        ],\n",
       "       ...,\n",
       "       [0.        , 0.        , 0.        , ..., 0.        , 0.        ,\n",
       "        0.        ],\n",
       "       [0.        , 0.        , 0.        , ..., 0.        , 0.        ,\n",
       "        0.        ],\n",
       "       [0.        , 0.        , 0.        , ..., 0.        , 0.        ,\n",
       "        0.        ]], shape=(77, 253))"
      ]
     },
     "execution_count": 128,
     "metadata": {},
     "output_type": "execute_result"
    }
   ],
   "source": [
    "## Tokenize the cleaned document\n",
    "tokenized_doc = cat_pc['categories'].apply(clean_text).fillna('').apply(lambda x: nlp(x))\n",
    "\n",
    "# remove stop-words\n",
    "tokenized_doc = tokenized_doc.apply(lambda x: [token.lemma_ for token in x if token.text not in STOP_WORDS])\n",
    "\n",
    "cat_pc[\"clean_token\"] = [\" \".join(x) for x in tokenized_doc]\n",
    "\n",
    "# TF-IDF vector\n",
    "vectorizer = TfidfVectorizer(stop_words='english')\n",
    "X = vectorizer.fit_transform(cat_pc['clean_token'])\n",
    "\n",
    "# X is a generator. We can transform that as an array\n",
    "dense = X.toarray()\n",
    "dense"
   ]
  },
  {
   "cell_type": "code",
   "execution_count": null,
   "id": "3937cf71",
   "metadata": {},
   "outputs": [
    {
     "name": "stdout",
     "output_type": "stream",
     "text": [
      "20 0.8428239440120587\n"
     ]
    }
   ],
   "source": [
    "# SVD represent documents and terms in vectors\n",
    "n_comp = 20\n",
    "svd_model = TruncatedSVD(n_components=n_comp, n_iter=100, random_state=122)\n",
    "lsa = svd_model.fit_transform(X)\n",
    "\n",
    "topic_encoded_df = pd.DataFrame(lsa, columns = [\"topic_\"+str(i) for i in range(1, n_comp+1)])\n",
    "\n",
    "print(n_comp, svd_model.explained_variance_ratio_.sum())"
   ]
  },
  {
   "cell_type": "code",
   "execution_count": null,
   "id": "045cbb54",
   "metadata": {},
   "outputs": [
    {
     "name": "stdout",
     "output_type": "stream",
     "text": [
      "\n",
      " Logistic Regression Best Parameters: {'C': 10}\n",
      "Logistic Regression Classification Report:\n",
      "              precision    recall  f1-score   support\n",
      "\n",
      "           0      1.000     1.000     1.000        11\n",
      "           1      1.000     0.455     0.625        11\n",
      "           2      0.917     1.000     0.957        11\n",
      "           3      0.750     1.000     0.857        12\n",
      "           4      1.000     1.000     1.000        11\n",
      "           5      1.000     1.000     1.000        11\n",
      "           6      1.000     1.000     1.000        12\n",
      "           7      1.000     1.000     1.000        11\n",
      "           8      0.917     1.000     0.957        11\n",
      "           9      1.000     1.000     1.000        11\n",
      "\n",
      "    accuracy                          0.946       112\n",
      "   macro avg      0.958     0.945     0.940       112\n",
      "weighted avg      0.957     0.946     0.939       112\n",
      "\n",
      "\n",
      " SVM Best Parameters: {'C': 10, 'kernel': 'rbf'}\n",
      "SVM Classification Report:\n",
      "              precision    recall  f1-score   support\n",
      "\n",
      "           0      1.000     1.000     1.000        11\n",
      "           1      1.000     0.818     0.900        11\n",
      "           2      0.917     1.000     0.957        11\n",
      "           3      0.923     1.000     0.960        12\n",
      "           4      1.000     1.000     1.000        11\n",
      "           5      1.000     1.000     1.000        11\n",
      "           6      1.000     1.000     1.000        12\n",
      "           7      1.000     1.000     1.000        11\n",
      "           8      1.000     1.000     1.000        11\n",
      "           9      1.000     1.000     1.000        11\n",
      "\n",
      "    accuracy                          0.982       112\n",
      "   macro avg      0.984     0.982     0.982       112\n",
      "weighted avg      0.984     0.982     0.982       112\n",
      "\n",
      "\n",
      " Random Forest Best Parameters: {'max_depth': 10, 'n_estimators': 100}\n",
      "Random Forest Classification Report:\n",
      "              precision    recall  f1-score   support\n",
      "\n",
      "           0      1.000     1.000     1.000        11\n",
      "           1      1.000     1.000     1.000        11\n",
      "           2      1.000     1.000     1.000        11\n",
      "           3      1.000     1.000     1.000        12\n",
      "           4      1.000     1.000     1.000        11\n",
      "           5      1.000     1.000     1.000        11\n",
      "           6      1.000     1.000     1.000        12\n",
      "           7      1.000     1.000     1.000        11\n",
      "           8      1.000     1.000     1.000        11\n",
      "           9      1.000     1.000     1.000        11\n",
      "\n",
      "    accuracy                          1.000       112\n",
      "   macro avg      1.000     1.000     1.000       112\n",
      "weighted avg      1.000     1.000     1.000       112\n",
      "\n",
      "\n",
      " XGBoost Best Parameters: {'learning_rate': 0.1, 'max_depth': 6, 'n_estimators': 200}\n",
      "XGBoost Classification Report:\n",
      "              precision    recall  f1-score   support\n",
      "\n",
      "           0      1.000     1.000     1.000        11\n",
      "           1      1.000     0.818     0.900        11\n",
      "           2      1.000     1.000     1.000        11\n",
      "           3      0.923     1.000     0.960        12\n",
      "           4      1.000     1.000     1.000        11\n",
      "           5      1.000     1.000     1.000        11\n",
      "           6      1.000     1.000     1.000        12\n",
      "           7      1.000     1.000     1.000        11\n",
      "           8      0.917     1.000     0.957        11\n",
      "           9      1.000     1.000     1.000        11\n",
      "\n",
      "    accuracy                          0.982       112\n",
      "   macro avg      0.984     0.982     0.982       112\n",
      "weighted avg      0.984     0.982     0.982       112\n",
      "\n"
     ]
    }
   ],
   "source": [
    "# encode target labels\n",
    "le = LabelEncoder()\n",
    "y_encoded = le.fit_transform(cat_pc['primaryCategories'])\n",
    "cat_pc['pc_encoded'] = y_encoded\n",
    "\n",
    "# handle class imbalance with SMOTE\n",
    "smote = SMOTE(random_state=42, k_neighbors=1)\n",
    "try:\n",
    "    X_res, y_res = smote.fit_resample(topic_encoded_df, cat_pc['pc_encoded'])\n",
    "except ValueError as e:\n",
    "    ros = RandomOverSampler(random_state=42)\n",
    "    X_res, y_res = ros.fit_resample(topic_encoded_df, cat_pc['pc_encoded'])\n",
    "\n",
    "# split the data\n",
    "X_train, X_val, y_train, y_val = train_test_split(X_res, y_res, test_size=0.2, random_state=42, stratify=y_res)\n",
    "\n",
    "models = {\n",
    "    \"Logistic Regression\": (LogisticRegression(max_iter=1000), {\"C\": [0.1, 1, 10]}),\n",
    "    \"SVM\": (SVC(), {\"C\": [0.1, 1, 10], \"kernel\": [\"linear\", \"rbf\"]}),\n",
    "    \"Random Forest\": (RandomForestClassifier(), {\"n_estimators\": [100, 200, 300], \"max_depth\": [5, 10, 20]}),\n",
    "    \"XGBoost\": (XGBClassifier(use_label_encoder=False, eval_metric='mlogloss'), {\"n_estimators\": [100, 200, 300], \"learning_rate\": [0.01, 0.1, 0.2], \"max_depth\": [3, 6, 9]})\n",
    "}\n",
    "\n",
    "cv = KFold(n_splits=5, shuffle=True, random_state=42)\n",
    "\n",
    "for name, (model, params) in models.items():\n",
    "    grid = GridSearchCV(model, params, cv=cv, scoring=\"f1_macro\", n_jobs=-1)\n",
    "    grid.fit(X_train, y_train)  \n",
    "    \n",
    "    print(f\"\\n {name} Best Parameters: {grid.best_params_}\")\n",
    "    print(f\"{name} Classification Report:\")\n",
    "    print(classification_report(y_val, grid.predict(X_val), digits=3))"
   ]
  },
  {
   "cell_type": "code",
   "execution_count": null,
   "id": "5057c0a2",
   "metadata": {},
   "outputs": [],
   "source": [
    "test_pc = pd.DataFrame(data[data['primaryCategories'].isnull()]['categories'])\n",
    "\n",
    "## Tokenize the cleaned document\n",
    "tokenized_doc = test_pc['categories'].apply(clean_text).fillna('').apply(lambda x: nlp(x))\n",
    "# remove stop-words\n",
    "tokenized_doc = tokenized_doc.apply(lambda x: [token.lemma_ for token in x if token.text not in STOP_WORDS])\n",
    "test_pc[\"clean_token\"] = [\" \".join(x) for x in tokenized_doc]\n",
    "\n",
    "# TF-IDF vector\n",
    "vectorizer = TfidfVectorizer(stop_words='english')\n",
    "X = vectorizer.fit_transform(test_pc['clean_token'])\n",
    "\n",
    "# SVD represent documents and terms in vectors\n",
    "n_comp = 20\n",
    "svd_model = TruncatedSVD(n_components=n_comp, n_iter=100, random_state=122)\n",
    "lsa = svd_model.fit_transform(X)\n",
    "topic_encoded_df = pd.DataFrame(lsa, columns = [\"topic_\"+str(i) for i in range(1, n_comp+1)])"
   ]
  },
  {
   "cell_type": "code",
   "execution_count": null,
   "id": "38871994",
   "metadata": {},
   "outputs": [],
   "source": [
    "pc_model = RandomForestClassifier(n_estimators=100, max_depth=10)\n",
    "pc_model.fit(X_train, y_train)\n",
    "\n",
    "y_test_pred = pc_model.predict(topic_encoded_df)\n",
    "data.loc[data['primaryCategories'].isnull(), 'primaryCategories'] = le.inverse_transform(y_test_pred)"
   ]
  },
  {
   "cell_type": "markdown",
   "id": "86f97faf",
   "metadata": {},
   "source": [
    "## 4. Push model to huggingface hub"
   ]
  },
  {
   "cell_type": "code",
   "execution_count": null,
   "id": "65c15c93",
   "metadata": {},
   "outputs": [
    {
     "name": "stderr",
     "output_type": "stream",
     "text": [
      "Processing Files (1 / 1): 100%|██████████|  268MB /  268MB,  312MB/s  \n",
      "New Data Upload: |          |  0.00B /  0.00B,  0.00B/s  \n",
      "No files have been modified since last commit. Skipping to prevent empty commit.\n"
     ]
    },
    {
     "data": {
      "text/plain": [
       "CommitInfo(commit_url='https://huggingface.co/yang181614/customer-review-distilbert/commit/f1a014eb9bb554b1a013ec622a000c44a37ffb58', commit_message='Upload tokenizer', commit_description='', oid='f1a014eb9bb554b1a013ec622a000c44a37ffb58', pr_url=None, repo_url=RepoUrl('https://huggingface.co/yang181614/customer-review-distilbert', endpoint='https://huggingface.co', repo_type='model', repo_id='yang181614/customer-review-distilbert'), pr_revision=None, pr_num=None)"
      ]
     },
     "execution_count": 4,
     "metadata": {},
     "output_type": "execute_result"
    }
   ],
   "source": [
    "model = AutoModelForSequenceClassification.from_pretrained(\"model_dir\")\n",
    "tokenizer = AutoTokenizer.from_pretrained(\"model_dir\")\n",
    "model.push_to_hub(\"yang181614/customer-review-distilbert\")\n",
    "tokenizer.push_to_hub(\"yang181614/customer-review-distilbert\")"
   ]
  }
 ],
 "metadata": {
  "kernelspec": {
   "display_name": ".venv (3.11.5)",
   "language": "python",
   "name": "python3"
  },
  "language_info": {
   "codemirror_mode": {
    "name": "ipython",
    "version": 3
   },
   "file_extension": ".py",
   "mimetype": "text/x-python",
   "name": "python",
   "nbconvert_exporter": "python",
   "pygments_lexer": "ipython3",
   "version": "3.11.5"
  }
 },
 "nbformat": 4,
 "nbformat_minor": 5
}
